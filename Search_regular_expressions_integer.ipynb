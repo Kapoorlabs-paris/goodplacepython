{
 "cells": [
  {
   "cell_type": "code",
   "execution_count": 3,
   "metadata": {},
   "outputs": [],
   "source": [
    "import re"
   ]
  },
  {
   "cell_type": "code",
   "execution_count": 4,
   "metadata": {},
   "outputs": [],
   "source": [
    "name_a = \"1234myfilename\"\n",
    "name_b = \"myfilename1234\"\n",
    "name_c = \"my1234fielname\"\n",
    "name_d = \"ma12file34name\"\n",
    "names = [name_a, name_b, name_c, name_d]"
   ]
  },
  {
   "cell_type": "markdown",
   "metadata": {},
   "source": [
    "In the cell below we search for all the numbers in the string using findall functionality of regular expression."
   ]
  },
  {
   "cell_type": "code",
   "execution_count": 5,
   "metadata": {},
   "outputs": [
    {
     "name": "stdout",
     "output_type": "stream",
     "text": [
      "{'1234myfilename': ['1234'], 'myfilename1234': ['1234'], 'my1234fielname': ['1234'], 'ma12file34name': ['12', '34']}\n"
     ]
    }
   ],
   "source": [
    "allnumbers = '[0-9]+'\n",
    "search_output = {}\n",
    "for name in names:\n",
    "  search_output[name] =  re.findall(allnumbers, name)\n",
    "print(search_output)  "
   ]
  },
  {
   "cell_type": "markdown",
   "metadata": {},
   "source": [
    "To have a continuous search we used the '+' symbol in the end, without it we obtain singelton numbers as shown below"
   ]
  },
  {
   "cell_type": "code",
   "execution_count": 6,
   "metadata": {},
   "outputs": [
    {
     "name": "stdout",
     "output_type": "stream",
     "text": [
      "{'1234myfilename': ['1', '2', '3', '4'], 'myfilename1234': ['1', '2', '3', '4'], 'my1234fielname': ['1', '2', '3', '4'], 'ma12file34name': ['1', '2', '3', '4']}\n"
     ]
    }
   ],
   "source": [
    "allnumbers = '[0-9]'\n",
    "search_output = {}\n",
    "for name in names:\n",
    "  search_output[name] =  re.findall(allnumbers, name)\n",
    "print(search_output)"
   ]
  },
  {
   "cell_type": "markdown",
   "metadata": {},
   "source": [
    "If we are only interested in searching at the beginning of the expresion we can use the carrot symbol ^ and the number would be returned only if the number is there, additionally we can use the start, end and span functions of re to get the position of start end and the length of the numbers in the string"
   ]
  },
  {
   "cell_type": "code",
   "execution_count": 27,
   "metadata": {},
   "outputs": [
    {
     "name": "stdout",
     "output_type": "stream",
     "text": [
      "1234myfilename <re.Match object; span=(0, 4), match='1234'>\n",
      "(0, 4) 0 4\n",
      "myfilename1234 None\n",
      "my1234fielname None\n",
      "ma12file34name None\n"
     ]
    }
   ],
   "source": [
    "allnumbers = '^[0-9]+'\n",
    "search_output = {}\n",
    "for name in names:\n",
    "  search_output[name] =  re.search(allnumbers, name)\n",
    "  print(name, search_output[name] ) \n",
    "  if search_output[name] is not None:\n",
    "    print(search_output[name].span(), search_output[name].start(), search_output[name].end())\n",
    "  "
   ]
  },
  {
   "cell_type": "code",
   "execution_count": 29,
   "metadata": {},
   "outputs": [
    {
     "name": "stdout",
     "output_type": "stream",
     "text": [
      "1234myfilename None\n",
      "myfilename1234 <re.Match object; span=(10, 14), match='1234'>\n",
      "(10, 14) 10 14\n",
      "my1234fielname None\n",
      "ma12file34name None\n"
     ]
    }
   ],
   "source": [
    "allnumbers = '[0-9]+$'\n",
    "search_output = {}\n",
    "for name in names:\n",
    "  search_output[name] =  re.search(allnumbers, name)\n",
    "  print(name, search_output[name])\n",
    "  if search_output[name] is not None:\n",
    "    print(search_output[name].span(), search_output[name].start(), search_output[name].end())\n",
    "  "
   ]
  },
  {
   "cell_type": "code",
   "execution_count": null,
   "metadata": {},
   "outputs": [],
   "source": []
  }
 ],
 "metadata": {
  "kernelspec": {
   "display_name": "Python 3.9.0 ('naparienv')",
   "language": "python",
   "name": "python3"
  },
  "language_info": {
   "codemirror_mode": {
    "name": "ipython",
    "version": 3
   },
   "file_extension": ".py",
   "mimetype": "text/x-python",
   "name": "python",
   "nbconvert_exporter": "python",
   "pygments_lexer": "ipython3",
   "version": "3.9.0"
  },
  "orig_nbformat": 4,
  "vscode": {
   "interpreter": {
    "hash": "e140276ae15c1be7b597ddfede76c3757c35dc6a4240f18994000df39384733e"
   }
  }
 },
 "nbformat": 4,
 "nbformat_minor": 2
}
