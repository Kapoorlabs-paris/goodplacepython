{
 "cells": [
  {
   "cell_type": "markdown",
   "metadata": {},
   "source": [
    "BootCamp Sofie December"
   ]
  },
  {
   "cell_type": "code",
   "execution_count": 5,
   "metadata": {},
   "outputs": [],
   "source": [
    "import ipywidgets as widgets\n",
    "from IPython.display import display"
   ]
  },
  {
   "cell_type": "code",
   "execution_count": 17,
   "metadata": {},
   "outputs": [],
   "source": [
    "w = widgets.IntRangeSlider(min = 0, max = 100)"
   ]
  },
  {
   "cell_type": "code",
   "execution_count": 18,
   "metadata": {},
   "outputs": [
    {
     "data": {
      "application/vnd.jupyter.widget-view+json": {
       "model_id": "fc83d09e91bf4dae94441678dedf19a2",
       "version_major": 2,
       "version_minor": 0
      },
      "text/plain": [
       "IntRangeSlider(value=(25, 75))"
      ]
     },
     "metadata": {},
     "output_type": "display_data"
    }
   ],
   "source": [
    "display(w)"
   ]
  },
  {
   "cell_type": "code",
   "execution_count": 19,
   "metadata": {},
   "outputs": [
    {
     "name": "stdout",
     "output_type": "stream",
     "text": [
      "(25, 75) ['_dom_classes', '_model_module', '_model_module_version', '_model_name', '_view_count', '_view_module', '_view_module_version', '_view_name', 'continuous_update', 'description', 'description_tooltip', 'disabled', 'layout', 'max', 'min', 'orientation', 'readout', 'readout_format', 'step', 'style', 'value']\n"
     ]
    }
   ],
   "source": [
    "print(w.value, w.keys)"
   ]
  },
  {
   "cell_type": "code",
   "execution_count": 36,
   "metadata": {},
   "outputs": [
    {
     "data": {
      "application/vnd.jupyter.widget-view+json": {
       "model_id": "45d412adad9049c8b6ea112f7796fdd0",
       "version_major": 2,
       "version_minor": 0
      },
      "text/plain": [
       "Button(description='Click Me!', style=ButtonStyle())"
      ]
     },
     "metadata": {},
     "output_type": "display_data"
    },
    {
     "data": {
      "application/vnd.jupyter.widget-view+json": {
       "model_id": "4e474a1dd45842568ed821f1150fd7a9",
       "version_major": 2,
       "version_minor": 0
      },
      "text/plain": [
       "Output()"
      ]
     },
     "metadata": {},
     "output_type": "display_data"
    }
   ],
   "source": [
    "button = widgets.Button(description=\"Click Me!\")\n",
    "outputbutton = widgets.Output()\n",
    "display(button, outputbutton)\n",
    "def on_button_clicked(b):\n",
    "    with outputbutton:\n",
    "        print(\"Hi, I am Sofie\")\n",
    "\n",
    "button.on_click(on_button_clicked)"
   ]
  },
  {
   "cell_type": "code",
   "execution_count": 4,
   "metadata": {},
   "outputs": [
    {
     "ename": "NameError",
     "evalue": "name 'widgets' is not defined",
     "output_type": "error",
     "traceback": [
      "\u001b[1;31m---------------------------------------------------------------------------\u001b[0m",
      "\u001b[1;31mNameError\u001b[0m                                 Traceback (most recent call last)",
      "\u001b[1;32mc:\\Users\\rando\\Downloads\\Python_Workspace\\goodplacepython\\interactivewidgets\\qtwidgets.ipynb Cell 7\u001b[0m in \u001b[0;36m<cell line: 1>\u001b[1;34m()\u001b[0m\n\u001b[1;32m----> <a href='vscode-notebook-cell:/c%3A/Users/rando/Downloads/Python_Workspace/goodplacepython/interactivewidgets/qtwidgets.ipynb#W6sZmlsZQ%3D%3D?line=0'>1</a>\u001b[0m slider \u001b[39m=\u001b[39m widgets\u001b[39m.\u001b[39mIntRangeSlider(\u001b[39mmin\u001b[39m \u001b[39m=\u001b[39m \u001b[39m0\u001b[39m, \u001b[39mmax\u001b[39m \u001b[39m=\u001b[39m \u001b[39m100\u001b[39m)\n\u001b[0;32m      <a href='vscode-notebook-cell:/c%3A/Users/rando/Downloads/Python_Workspace/goodplacepython/interactivewidgets/qtwidgets.ipynb#W6sZmlsZQ%3D%3D?line=1'>2</a>\u001b[0m outputslider \u001b[39m=\u001b[39m widgets\u001b[39m.\u001b[39mOutput()\n\u001b[0;32m      <a href='vscode-notebook-cell:/c%3A/Users/rando/Downloads/Python_Workspace/goodplacepython/interactivewidgets/qtwidgets.ipynb#W6sZmlsZQ%3D%3D?line=2'>3</a>\u001b[0m display(slider, outputslider)\n",
      "\u001b[1;31mNameError\u001b[0m: name 'widgets' is not defined"
     ]
    }
   ],
   "source": [
    "slider = widgets.IntRangeSlider(min = 0, max = 100)\n",
    "outputslider = widgets.Output()\n",
    "display(slider, outputslider)\n",
    "\n",
    "def on_value_change(change):\n",
    "    with outputslider:\n",
    "        print(change['new'])\n",
    "\n",
    "slider.observe(on_value_change, names='value')"
   ]
  },
  {
   "cell_type": "code",
   "execution_count": null,
   "metadata": {},
   "outputs": [],
   "source": []
  },
  {
   "cell_type": "code",
   "execution_count": 46,
   "metadata": {},
   "outputs": [
    {
     "data": {
      "application/vnd.jupyter.widget-view+json": {
       "model_id": "b733713d55b740a9a1a1920203d732b4",
       "version_major": 2,
       "version_minor": 0
      },
      "text/plain": [
       "VBox(children=(Button(description='Click Me!', style=ButtonStyle()), IntRangeSlider(value=(25, 83))))"
      ]
     },
     "metadata": {},
     "output_type": "display_data"
    }
   ],
   "source": [
    "widgets.VBox([button, slider])"
   ]
  },
  {
   "cell_type": "code",
   "execution_count": 40,
   "metadata": {},
   "outputs": [
    {
     "data": {
      "application/vnd.jupyter.widget-view+json": {
       "model_id": "2502680c11fc4b568a272db2e2035aea",
       "version_major": 2,
       "version_minor": 0
      },
      "text/plain": [
       "VBox(children=(IntSlider(value=0, continuous_update=False, description='Delayed'), IntText(value=0, descriptio…"
      ]
     },
     "metadata": {},
     "output_type": "display_data"
    }
   ],
   "source": [
    "intslider = widgets.IntSlider(description=\"Delayed\", continuous_update=False)\n",
    "inttext = widgets.IntText(description=\"Delayed\", continuous_update=False)\n",
    "widgets.link((intslider, 'value'), (inttext, 'value'))\n",
    "widgets.VBox([intslider, inttext])"
   ]
  },
  {
   "cell_type": "code",
   "execution_count": 41,
   "metadata": {},
   "outputs": [
    {
     "data": {
      "application/vnd.jupyter.widget-view+json": {
       "model_id": "e288de1602364e84bc80d5f353c48601",
       "version_major": 2,
       "version_minor": 0
      },
      "text/plain": [
       "VBox(children=(IntSlider(value=0, description='Delayed'), IntText(value=0, continuous_update=True, description…"
      ]
     },
     "metadata": {},
     "output_type": "display_data"
    }
   ],
   "source": [
    "intslider = widgets.IntSlider(description=\"Delayed\", continuous_update=True)\n",
    "inttext = widgets.IntText(description=\"Delayed\", continuous_update=True)\n",
    "widgets.link((intslider, 'value'), (inttext, 'value'))\n",
    "widgets.VBox([intslider, inttext])"
   ]
  },
  {
   "cell_type": "code",
   "execution_count": 2,
   "metadata": {},
   "outputs": [],
   "source": [
    "\n",
    "import math\n",
    "from enum import Enum\n",
    "from magicgui import magicgui\n",
    "\n",
    "# dropdown boxes are best made by creating an enum\n",
    "class Medium(Enum):\n",
    "    Glass = 1.520\n",
    "    Oil = 1.515\n",
    "    Water = 1.333\n",
    "    Air = 1.0003\n",
    "\n",
    "# decorate your function with the ``@magicgui`` decorator\n",
    "@magicgui(call_button=\"calculate\")\n",
    "def snells_law(aoi=30.0, n1=Medium.Glass, n2=Medium.Water, degrees=True):\n",
    "    aoi = math.radians(aoi) if degrees else aoi\n",
    "    try:\n",
    "        result = math.asin(n1.value * math.sin(aoi) / n2.value)\n",
    "        return math.degrees(result) if degrees else result\n",
    "    except ValueError:\n",
    "        # beyond the critical angle\n",
    "        return \"Total internal reflection!\""
   ]
  },
  {
   "cell_type": "code",
   "execution_count": 3,
   "metadata": {},
   "outputs": [
    {
     "data": {
      "image/png": "[encoded data removed]",
      "text/plain": [
       "<FunctionGui snells_law(aoi=30.0, n1=<Medium.Glass: 1.52>, n2=<Medium.Water: 1.333>, degrees=True)>"
      ]
     },
     "execution_count": 3,
     "metadata": {},
     "output_type": "execute_result"
    }
   ],
   "source": [
    "snells_law.show()"
   ]
  },
  {
   "cell_type": "code",
   "execution_count": 8,
   "metadata": {},
   "outputs": [
    {
     "data": {
      "application/vnd.jupyter.widget-view+json": {
       "model_id": "1b11587de5ce4f68ae462f6adf51dc8e",
       "version_major": 2,
       "version_minor": 0
      },
      "text/plain": [
       "IntSlider(value=0)"
      ]
     },
     "metadata": {},
     "output_type": "display_data"
    },
    {
     "data": {
      "application/vnd.jupyter.widget-view+json": {
       "model_id": "df7d7472ff0a46c9a595609fdd08b75b",
       "version_major": 2,
       "version_minor": 0
      },
      "text/plain": [
       "Output()"
      ]
     },
     "metadata": {},
     "output_type": "display_data"
    }
   ],
   "source": [
    "import ipywidgets as widgets\n",
    "slider = widgets.IntSlider(min = 0, max = 100)\n",
    "outputslider = widgets.Output()\n",
    "display(slider, outputslider)\n",
    "\n",
    "def on_value_change(change):\n",
    "    with outputslider:\n",
    "        pass\n",
    "\n",
    "slider.observe(on_value_change, names='value')"
   ]
  },
  {
   "cell_type": "code",
   "execution_count": 30,
   "metadata": {},
   "outputs": [],
   "source": [
    "import math\n",
    "import matplotlib.pyplot as plt\n",
    "import numpy as np\n",
    "def f(k = 1):\n",
    "    \n",
    "    x = np.arange(100)\n",
    "    plt.cla()\n",
    "    plt.plot(x, np.sin(k * x / (6.28)))\n",
    "    plt.show()\n",
    "    "
   ]
  },
  {
   "cell_type": "code",
   "execution_count": 33,
   "metadata": {},
   "outputs": [
    {
     "data": {
      "application/vnd.jupyter.widget-view+json": {
       "model_id": "5e4c6e942327491c8f750d7e7218b1c0",
       "version_major": 2,
       "version_minor": 0
      },
      "text/plain": [
       "interactive(children=(IntSlider(value=10, description='k', max=30, min=-30), Output()), _dom_classes=('widget-…"
      ]
     },
     "metadata": {},
     "output_type": "display_data"
    },
    {
     "data": {
      "text/plain": [
       "<function __main__.f(k=1)>"
      ]
     },
     "execution_count": 33,
     "metadata": {},
     "output_type": "execute_result"
    },
    {
     "ename": "",
     "evalue": "",
     "output_type": "error",
     "traceback": [
      "\u001b[1;31mThe Kernel crashed while executing code in the the current cell or a previous cell. Please review the code in the cell(s) to identify a possible cause of the failure. Click <a href='https://aka.ms/vscodeJupyterKernelCrash'>here</a> for more info. View Jupyter <a href='command:jupyter.viewOutput'>log</a> for further details."
     ]
    }
   ],
   "source": [
    "from ipywidgets import interact , IntSlider\n",
    "interact(f, k = widgets.IntSlider(min=-30, max=30, step=1, value=10))"
   ]
  },
  {
   "cell_type": "code",
   "execution_count": null,
   "metadata": {},
   "outputs": [],
   "source": []
  }
 ],
 "metadata": {
  "kernelspec": {
   "display_name": "Python 3 (ipykernel)",
   "language": "python",
   "name": "python3"
  },
  "language_info": {
   "codemirror_mode": {
    "name": "ipython",
    "version": 3
   },
   "file_extension": ".py",
   "mimetype": "text/x-python",
   "name": "python",
   "nbconvert_exporter": "python",
   "pygments_lexer": "ipython3",
   "version": "3.9.0"
  },
  "vscode": {
   "interpreter": {
    "hash": "e140276ae15c1be7b597ddfede76c3757c35dc6a4240f18994000df39384733e"
   }
  }
 },
 "nbformat": 4,
 "nbformat_minor": 2
}
