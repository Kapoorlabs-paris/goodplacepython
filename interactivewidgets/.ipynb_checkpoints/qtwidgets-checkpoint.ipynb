{
 "cells": [
  {
   "cell_type": "markdown",
   "metadata": {},
   "source": [
    "BootCamp Sofie December"
   ]
  },
  {
   "cell_type": "code",
   "execution_count": 1,
   "metadata": {},
   "outputs": [],
   "source": [
    "import ipywidgets as widgets\n",
    "from IPython.display import display"
   ]
  },
  {
   "cell_type": "code",
   "execution_count": 2,
   "metadata": {},
   "outputs": [],
   "source": [
    "w = widgets.IntRangeSlider(min = 0, max = 100)"
   ]
  },
  {
   "cell_type": "code",
   "execution_count": 3,
   "metadata": {},
   "outputs": [
    {
     "data": {
      "application/vnd.jupyter.widget-view+json": {
       "model_id": "287095adef3444f7a39df0f9d969bd2a",
       "version_major": 2,
       "version_minor": 0
      },
      "text/plain": [
       "IntRangeSlider(value=(25, 75))"
      ]
     },
     "metadata": {},
     "output_type": "display_data"
    }
   ],
   "source": [
    "display(w)"
   ]
  },
  {
   "cell_type": "code",
   "execution_count": 4,
   "metadata": {},
   "outputs": [
    {
     "name": "stdout",
     "output_type": "stream",
     "text": [
      "(18, 82) ['_dom_classes', '_model_module', '_model_module_version', '_model_name', '_view_count', '_view_module', '_view_module_version', '_view_name', 'continuous_update', 'description', 'description_tooltip', 'disabled', 'layout', 'max', 'min', 'orientation', 'readout', 'readout_format', 'step', 'style', 'value']\n"
     ]
    }
   ],
   "source": [
    "print(w.value, w.keys)"
   ]
  },
  {
   "cell_type": "code",
   "execution_count": 5,
   "metadata": {},
   "outputs": [
    {
     "data": {
      "application/vnd.jupyter.widget-view+json": {
       "model_id": "06da97ebaef4496594208a91082c3eac",
       "version_major": 2,
       "version_minor": 0
      },
      "text/plain": [
       "Button(description='Click Me!', style=ButtonStyle())"
      ]
     },
     "metadata": {},
     "output_type": "display_data"
    },
    {
     "data": {
      "application/vnd.jupyter.widget-view+json": {
       "model_id": "e5a4fa054d3a47bda50bc5c52638a1b2",
       "version_major": 2,
       "version_minor": 0
      },
      "text/plain": [
       "Output()"
      ]
     },
     "metadata": {},
     "output_type": "display_data"
    }
   ],
   "source": [
    "button = widgets.Button(description=\"Click Me!\")\n",
    "outputbutton = widgets.Output()\n",
    "display(button, outputbutton)\n",
    "def on_button_clicked(b):\n",
    "    with outputbutton:\n",
    "        print(\"Hi, I am Sofie\")\n",
    "\n",
    "button.on_click(on_button_clicked)"
   ]
  },
  {
   "cell_type": "code",
   "execution_count": 6,
   "metadata": {},
   "outputs": [
    {
     "data": {
      "application/vnd.jupyter.widget-view+json": {
       "model_id": "90f0d52a53ac4f39aaed0d5018c89c24",
       "version_major": 2,
       "version_minor": 0
      },
      "text/plain": [
       "IntRangeSlider(value=(25, 75))"
      ]
     },
     "metadata": {},
     "output_type": "display_data"
    },
    {
     "data": {
      "application/vnd.jupyter.widget-view+json": {
       "model_id": "b7993db988f94fb98474b5bed7688d62",
       "version_major": 2,
       "version_minor": 0
      },
      "text/plain": [
       "Output()"
      ]
     },
     "metadata": {},
     "output_type": "display_data"
    }
   ],
   "source": [
    "slider = widgets.IntRangeSlider(min = 0, max = 100)\n",
    "outputslider = widgets.Output()\n",
    "display(slider, outputslider)\n",
    "\n",
    "def on_value_change(change):\n",
    "    with outputslider:\n",
    "        print(change['new'])\n",
    "\n",
    "slider.observe(on_value_change, names='value')"
   ]
  },
  {
   "cell_type": "code",
   "execution_count": null,
   "metadata": {},
   "outputs": [],
   "source": []
  },
  {
   "cell_type": "code",
   "execution_count": 7,
   "metadata": {},
   "outputs": [
    {
     "data": {
      "application/vnd.jupyter.widget-view+json": {
       "model_id": "9d59fcc2082c42688a272b82ac8ad5ad",
       "version_major": 2,
       "version_minor": 0
      },
      "text/plain": [
       "VBox(children=(Button(description='Click Me!', style=ButtonStyle()), IntRangeSlider(value=(25, 75))))"
      ]
     },
     "metadata": {},
     "output_type": "display_data"
    }
   ],
   "source": [
    "widgets.VBox([button, slider])"
   ]
  },
  {
   "cell_type": "code",
   "execution_count": 8,
   "metadata": {},
   "outputs": [
    {
     "data": {
      "application/vnd.jupyter.widget-view+json": {
       "model_id": "5ff7bff646cf42a4bfb86c7840b9046f",
       "version_major": 2,
       "version_minor": 0
      },
      "text/plain": [
       "VBox(children=(IntSlider(value=0, continuous_update=False, description='Delayed'), IntText(value=0, descriptio…"
      ]
     },
     "metadata": {},
     "output_type": "display_data"
    }
   ],
   "source": [
    "intslider = widgets.IntSlider(description=\"Delayed\", continuous_update=False)\n",
    "inttext = widgets.IntText(description=\"Delayed\", continuous_update=False)\n",
    "widgets.link((intslider, 'value'), (inttext, 'value'))\n",
    "widgets.VBox([intslider, inttext])"
   ]
  },
  {
   "cell_type": "code",
   "execution_count": null,
   "metadata": {},
   "outputs": [],
   "source": [
    "intslider = widgets.IntSlider(description=\"Delayed\", continuous_update=True)\n",
    "inttext = widgets.IntText(description=\"Delayed\", continuous_update=True)\n",
    "widgets.link((intslider, 'value'), (inttext, 'value'))\n",
    "widgets.VBox([intslider, inttext])"
   ]
  },
  {
   "cell_type": "code",
   "execution_count": null,
   "metadata": {},
   "outputs": [],
   "source": [
    "\n",
    "import math\n",
    "from enum import Enum\n",
    "from magicgui import magicgui\n",
    "\n",
    "# dropdown boxes are best made by creating an enum\n",
    "class Medium(Enum):\n",
    "    Glass = 1.520\n",
    "    Oil = 1.515\n",
    "    Water = 1.333\n",
    "    Air = 1.0003\n",
    "\n",
    "# decorate your function with the ``@magicgui`` decorator\n",
    "@magicgui(call_button=\"calculate\")\n",
    "def snells_law(aoi=30.0, n1=Medium.Glass, n2=Medium.Water, degrees=True):\n",
    "    aoi = math.radians(aoi) if degrees else aoi\n",
    "    try:\n",
    "        result = math.asin(n1.value * math.sin(aoi) / n2.value)\n",
    "        return math.degrees(result) if degrees else result\n",
    "    except ValueError:\n",
    "        # beyond the critical angle\n",
    "        return \"Total internal reflection!\""
   ]
  },
  {
   "cell_type": "code",
   "execution_count": null,
   "metadata": {},
   "outputs": [],
   "source": [
    "snells_law.show()"
   ]
  },
  {
   "cell_type": "code",
   "execution_count": null,
   "metadata": {},
   "outputs": [],
   "source": [
    "import ipywidgets as widgets\n",
    "slider = widgets.IntSlider(min = 0, max = 100)\n",
    "outputslider = widgets.Output()\n",
    "display(slider, outputslider)\n",
    "\n",
    "def on_value_change(change):\n",
    "    with outputslider:\n",
    "        pass\n",
    "\n",
    "slider.observe(on_value_change, names='value')"
   ]
  },
  {
   "cell_type": "code",
   "execution_count": null,
   "metadata": {},
   "outputs": [],
   "source": [
    "import math\n",
    "import matplotlib.pyplot as plt\n",
    "import numpy as np\n",
    "def f(k = 1):\n",
    "    \n",
    "    x = np.arange(100)\n",
    "    plt.cla()\n",
    "    plt.plot(x, np.sin(k * x / (6.28)))\n",
    "    plt.show()\n",
    "    "
   ]
  },
  {
   "cell_type": "code",
   "execution_count": null,
   "metadata": {},
   "outputs": [],
   "source": [
    "from ipywidgets import interact , IntSlider\n",
    "interact(f, k = widgets.IntSlider(min=-30, max=30, step=1, value=10))"
   ]
  },
  {
   "cell_type": "code",
   "execution_count": null,
   "metadata": {},
   "outputs": [],
   "source": []
  }
 ],
 "metadata": {
  "kernelspec": {
   "display_name": "Python 3 (ipykernel)",
   "language": "python",
   "name": "python3"
  },
  "language_info": {
   "codemirror_mode": {
    "name": "ipython",
    "version": 3
   },
   "file_extension": ".py",
   "mimetype": "text/x-python",
   "name": "python",
   "nbconvert_exporter": "python",
   "pygments_lexer": "ipython3",
   "version": "3.9.0"
  },
  "vscode": {
   "interpreter": {
    "hash": "e140276ae15c1be7b597ddfede76c3757c35dc6a4240f18994000df39384733e"
   }
  }
 },
 "nbformat": 4,
 "nbformat_minor": 2
}
