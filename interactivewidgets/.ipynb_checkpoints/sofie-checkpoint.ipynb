{
 "cells": [
  {
   "cell_type": "code",
   "execution_count": 1,
   "id": "73cfcdcb",
   "metadata": {},
   "outputs": [
    {
     "name": "stdout",
     "output_type": "stream",
     "text": [
      "Day and time today: Tue Dec 13 18:58:44 2022\n"
     ]
    }
   ],
   "source": [
    "import time\n",
    "\n",
    "print('Day and time today:', time.ctime())\n"
   ]
  },
  {
   "cell_type": "code",
   "execution_count": 2,
   "id": "80df0b22",
   "metadata": {},
   "outputs": [],
   "source": [
    "sofie = {\n",
    "    'fisch': ['wal', 'delfin', 'rochen', 'schwertfisch', 'tinifisch', 'seepferdchen', 'garnele'],\n",
    "    'Esszimmer': ['tisch', 'stuhl', 'löffel', 'glas','serviette','platte'],\n",
    "    'Wohnzimmer': ['vase','sofa','vase','bild','couchtisch','fernsher'],\n",
    "    'Geburstag':17,\n",
    "    'GeburstJahr': 2014,\n",
    "    'Geburstort': 'Berlin'\n",
    "}"
   ]
  },
  {
   "cell_type": "code",
   "execution_count": 3,
   "id": "3c8cd55c",
   "metadata": {},
   "outputs": [
    {
     "data": {
      "text/plain": [
       "['wal',\n",
       " 'delfin',\n",
       " 'rochen',\n",
       " 'schwertfisch',\n",
       " 'tinifisch',\n",
       " 'seepferdchen',\n",
       " 'garnele']"
      ]
     },
     "execution_count": 3,
     "metadata": {},
     "output_type": "execute_result"
    }
   ],
   "source": [
    "sofie['fisch']"
   ]
  },
  {
   "cell_type": "code",
   "execution_count": 22,
   "id": "180a2e1f",
   "metadata": {},
   "outputs": [
    {
     "data": {
      "text/plain": [
       "['tisch', 'stuhl', 'löffel', 'glas', 'serviette', 'platte']"
      ]
     },
     "execution_count": 22,
     "metadata": {},
     "output_type": "execute_result"
    }
   ],
   "source": [
    "sofie['Esszimmer']"
   ]
  },
  {
   "cell_type": "code",
   "execution_count": 23,
   "id": "08dd2980",
   "metadata": {},
   "outputs": [
    {
     "data": {
      "text/plain": [
       "['vase', 'sofa', 'vase', 'bild', 'couchtisch', 'fernsher']"
      ]
     },
     "execution_count": 23,
     "metadata": {},
     "output_type": "execute_result"
    }
   ],
   "source": [
    "sofie['Wohnzimmer']"
   ]
  },
  {
   "cell_type": "code",
   "execution_count": 25,
   "id": "f234615e",
   "metadata": {},
   "outputs": [
    {
     "data": {
      "text/plain": [
       "(17, 2014, 'Berlin')"
      ]
     },
     "execution_count": 25,
     "metadata": {},
     "output_type": "execute_result"
    }
   ],
   "source": [
    "sofie['Geburstag'], sofie['GeburstJahr'],sofie['Geburstort']"
   ]
  },
  {
   "cell_type": "code",
   "execution_count": 28,
   "id": "ecd075d2",
   "metadata": {},
   "outputs": [],
   "source": [
    "sofie['Geburstmonat'] = 'October'"
   ]
  },
  {
   "cell_type": "code",
   "execution_count": 29,
   "id": "d8b0ee67",
   "metadata": {},
   "outputs": [
    {
     "data": {
      "text/plain": [
       "{'fisch': ['wal',\n",
       "  'delfin',\n",
       "  'rochen',\n",
       "  'schwertfisch',\n",
       "  'tinifisch',\n",
       "  'seepferdchen',\n",
       "  'garnele'],\n",
       " 'Esszimmer': ['tisch', 'stuhl', 'löffel', 'glas', 'serviette', 'platte'],\n",
       " 'Wohnzimmer': ['vase', 'sofa', 'vase', 'bild', 'couchtisch', 'fernsher'],\n",
       " 'Geburstag': 17,\n",
       " 'GeburstJahr': 2014,\n",
       " 'Geburstort': 'Berlin',\n",
       " 'Geburstmonat': 'October'}"
      ]
     },
     "execution_count": 29,
     "metadata": {},
     "output_type": "execute_result"
    }
   ],
   "source": [
    "sofie"
   ]
  },
  {
   "cell_type": "code",
   "execution_count": 30,
   "id": "05dc6587",
   "metadata": {},
   "outputs": [],
   "source": [
    "sofie['friends'] = ['glen', 'dora', 'konstantin', 'sarah', 'alex']"
   ]
  },
  {
   "cell_type": "code",
   "execution_count": 32,
   "id": "d90949f0",
   "metadata": {},
   "outputs": [],
   "source": [
    "sofie['schoolfriends'] = ['glen', 'sarah', 'alex']"
   ]
  },
  {
   "cell_type": "code",
   "execution_count": 33,
   "id": "1c66ba6d",
   "metadata": {},
   "outputs": [
    {
     "data": {
      "text/plain": [
       "{'fisch': ['wal',\n",
       "  'delfin',\n",
       "  'rochen',\n",
       "  'schwertfisch',\n",
       "  'tinifisch',\n",
       "  'seepferdchen',\n",
       "  'garnele'],\n",
       " 'Esszimmer': ['tisch', 'stuhl', 'löffel', 'glas', 'serviette', 'platte'],\n",
       " 'Wohnzimmer': ['vase', 'sofa', 'vase', 'bild', 'couchtisch', 'fernsher'],\n",
       " 'Geburstag': 17,\n",
       " 'GeburstJahr': 2014,\n",
       " 'Geburstort': 'Berlin',\n",
       " 'Geburstmonat': 'October',\n",
       " 'friends': ['glen', 'dora', 'konstantin', 'sarah', 'alex'],\n",
       " 'schoolfriends': ['glen', 'sarah', 'alex']}"
      ]
     },
     "execution_count": 33,
     "metadata": {},
     "output_type": "execute_result"
    }
   ],
   "source": [
    "sofie"
   ]
  },
  {
   "cell_type": "code",
   "execution_count": 52,
   "id": "8a65bc3b",
   "metadata": {},
   "outputs": [
    {
     "name": "stdout",
     "output_type": "stream",
     "text": [
      "Current friends: {'sarah', 'alex', 'glen'}\n",
      "Old friends: {'konstantin', 'dora'}\n"
     ]
    }
   ],
   "source": [
    "currentfriends = set(sofie['friends']) & set(sofie['schoolfriends'])\n",
    "allfriends = set(sofie['friends']) | set(sofie['schoolfriends']) \n",
    "print('Current friends:', currentfriends)\n",
    "print('Old friends:', allfriends - currentfriends)"
   ]
  },
  {
   "cell_type": "code",
   "execution_count": null,
   "id": "92cb9569",
   "metadata": {},
   "outputs": [],
   "source": []
  }
 ],
 "metadata": {
  "kernelspec": {
   "display_name": "Python 3 (ipykernel)",
   "language": "python",
   "name": "python3"
  },
  "language_info": {
   "codemirror_mode": {
    "name": "ipython",
    "version": 3
   },
   "file_extension": ".py",
   "mimetype": "text/x-python",
   "name": "python",
   "nbconvert_exporter": "python",
   "pygments_lexer": "ipython3",
   "version": "3.9.0"
  }
 },
 "nbformat": 4,
 "nbformat_minor": 5
}
