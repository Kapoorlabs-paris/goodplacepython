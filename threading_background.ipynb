{
 "cells": [
  {
   "cell_type": "markdown",
   "metadata": {},
   "source": []
  },
  {
   "cell_type": "code",
   "execution_count": 2,
   "metadata": {},
   "outputs": [],
   "source": [
    "import threading\n",
    "import time"
   ]
  },
  {
   "cell_type": "code",
   "execution_count": 3,
   "metadata": {},
   "outputs": [],
   "source": [
    "def threading_test(name):\n",
    "    print(f'Background process started with {name}')\n",
    "    time.sleep(3)\n",
    "    print(f'Background thread finished')\n",
    "\n"
   ]
  },
  {
   "cell_type": "markdown",
   "metadata": {},
   "source": [
    "Main thread finishes before the background thread is complete"
   ]
  },
  {
   "cell_type": "code",
   "execution_count": 4,
   "metadata": {},
   "outputs": [
    {
     "name": "stdout",
     "output_type": "stream",
     "text": [
      "Am the main thread\n",
      "Background process started with Kapoorlabs\n",
      "Main eneded\n"
     ]
    },
    {
     "name": "stdout",
     "output_type": "stream",
     "text": [
      "Background thread finished\n"
     ]
    }
   ],
   "source": [
    "if __name__ == '__main__':\n",
    "\n",
    "    print(f'Am the main thread')\n",
    "    t = threading.Thread(target = threading_test, args = [\"Kapoorlabs\"])\n",
    "    t.start()\n",
    "    # Main thread is not waiting for background thread to finish\n",
    "    \n",
    "    print(f'Main eneded')"
   ]
  },
  {
   "cell_type": "markdown",
   "metadata": {},
   "source": [
    "Add daemon to kill the background thread"
   ]
  },
  {
   "cell_type": "code",
   "execution_count": null,
   "metadata": {},
   "outputs": [],
   "source": [
    "if __name__ == '__main__':\n",
    "\n",
    "    print(f'Am the main thread')\n",
    "    t = threading.Thread(target = threading_test, args = [\"Kapoorlabs\"], daemon = True)\n",
    "    t.start()\n",
    "    # Main thread is not waiting for background thread to finish\n",
    "    \n",
    "    print(f'Main eneded')"
   ]
  },
  {
   "cell_type": "markdown",
   "metadata": {},
   "source": [
    "Use join() to wait for the background thread to finish execution"
   ]
  },
  {
   "cell_type": "code",
   "execution_count": 5,
   "metadata": {},
   "outputs": [
    {
     "name": "stdout",
     "output_type": "stream",
     "text": [
      "Am the main thread\n",
      "Background process started with Kapoorlabs\n",
      "Background thread finished\n",
      "Main eneded\n"
     ]
    }
   ],
   "source": [
    "if __name__ == '__main__':\n",
    "\n",
    "    print(f'Am the main thread')\n",
    "    t = threading.Thread(target = threading_test, args = [\"Kapoorlabs\"])\n",
    "    t.start()\n",
    "    #Wait for background thread to finish\n",
    "    t.join()\n",
    "    print(f'Main eneded')\n"
   ]
  },
  {
   "cell_type": "code",
   "execution_count": null,
   "metadata": {},
   "outputs": [],
   "source": []
  }
 ],
 "metadata": {
  "kernelspec": {
   "display_name": "Python 3.9.0 ('naparienv')",
   "language": "python",
   "name": "python3"
  },
  "language_info": {
   "codemirror_mode": {
    "name": "ipython",
    "version": 3
   },
   "file_extension": ".py",
   "mimetype": "text/x-python",
   "name": "python",
   "nbconvert_exporter": "python",
   "pygments_lexer": "ipython3",
   "version": "3.9.0"
  },
  "orig_nbformat": 4,
  "vscode": {
   "interpreter": {
    "hash": "e140276ae15c1be7b597ddfede76c3757c35dc6a4240f18994000df39384733e"
   }
  }
 },
 "nbformat": 4,
 "nbformat_minor": 2
}
