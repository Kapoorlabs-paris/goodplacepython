{
 "cells": [
  {
   "cell_type": "markdown",
   "metadata": {},
   "source": []
  },
  {
   "cell_type": "code",
   "execution_count": 1,
   "metadata": {},
   "outputs": [],
   "source": [
    "import threading\n",
    "import time"
   ]
  },
  {
   "cell_type": "code",
   "execution_count": 8,
   "metadata": {},
   "outputs": [],
   "source": [
    "def threading_test(name):\n",
    "    print(f'Background process started with {name}')\n",
    "    time.sleep(3)\n",
    "    print(f'Background thread finished')\n",
    "\n"
   ]
  },
  {
   "cell_type": "markdown",
   "metadata": {},
   "source": [
    "Main thread finishes before the background thread is complete"
   ]
  },
  {
   "cell_type": "code",
   "execution_count": 9,
   "metadata": {},
   "outputs": [
    {
     "name": "stdout",
     "output_type": "stream",
     "text": [
      "Am the main thread\n",
      "Background process started with Kapoorlabs\n",
      "Main ended\n"
     ]
    }
   ],
   "source": [
    "if __name__ == '__main__':\n",
    "\n",
    "    print(f'Am the main thread')\n",
    "    t = threading.Thread(target = threading_test, args = [\"Kapoorlabs\"])\n",
    "    t.start()\n",
    "    # Main thread is not waiting for background thread to finish\n",
    "    \n",
    "    print(f'Main ended')"
   ]
  },
  {
   "cell_type": "markdown",
   "metadata": {},
   "source": [
    "Add daemon to kill the background thread"
   ]
  },
  {
   "cell_type": "code",
   "execution_count": 10,
   "metadata": {},
   "outputs": [
    {
     "name": "stdout",
     "output_type": "stream",
     "text": [
      "Am the main thread\n",
      "Background process started with Kapoorlabs\n",
      "Main ended\n"
     ]
    }
   ],
   "source": [
    "if __name__ == '__main__':\n",
    "\n",
    "    print(f'Am the main thread')\n",
    "    t = threading.Thread(target = threading_test, args = [\"Kapoorlabs\"], daemon = True)\n",
    "    t.start()\n",
    "    # Main thread is not waiting for background thread to finish\n",
    "    \n",
    "    print(f'Main ended')"
   ]
  },
  {
   "cell_type": "markdown",
   "metadata": {},
   "source": [
    "Use join() to wait for the background thread to finish execution"
   ]
  },
  {
   "cell_type": "code",
   "execution_count": 25,
   "metadata": {},
   "outputs": [
    {
     "name": "stdout",
     "output_type": "stream",
     "text": [
      "Am the main thread\n",
      "<locked _thread.lock object at 0x0000013EBB30D1B0>\n",
      "<unlocked _thread.lock object at 0x0000013EBB30D1B0>\n",
      "Background process started with Kapoorlabs\n",
      "Background thread finished\n",
      "Main ended\n"
     ]
    }
   ],
   "source": [
    "if __name__ == '__main__':\n",
    "\n",
    "    print(f'Am the main thread')\n",
    "    t = threading.Thread(target = threading_test, args = [\"Kapoorlabs\"])\n",
    "  \n",
    "    t.start()\n",
    "    #Wait for background thread to finish\n",
    "    t.join()\n",
    "    print(f'Main ended')\n"
   ]
  },
  {
   "cell_type": "code",
   "execution_count": 8,
   "metadata": {},
   "outputs": [],
   "source": [
    "import concurrent.futures\n",
    "import os"
   ]
  },
  {
   "cell_type": "code",
   "execution_count": 19,
   "metadata": {},
   "outputs": [
    {
     "name": "stdout",
     "output_type": "stream",
     "text": [
      "Available number of cpu 16\n",
      "Background process started with Kapoorlabs\n",
      "Background process started with Paris\n",
      "Background process started with Berlin\n",
      "Background process started with India\n",
      "Background thread finished\n",
      "Background thread finished\n",
      "Background thread finished\n",
      "Background thread finished\n"
     ]
    }
   ],
   "source": [
    "if __name__ == '__main__':\n",
    "    nthreads = os.cpu_count()\n",
    "    print(f'Available number of cpu {nthreads}')\n",
    "    with concurrent.futures.ThreadPoolExecutor(max_workers = nthreads) as executor:\n",
    "        executor.map(threading_test, ['Kapoorlabs', 'Paris', 'Berlin', 'India'])"
   ]
  },
  {
   "cell_type": "code",
   "execution_count": 26,
   "metadata": {},
   "outputs": [
    {
     "name": "stdout",
     "output_type": "stream",
     "text": [
      "Available number of cpu 16\n",
      "Background process started with ['Kapoorlabs', 'Paris', 'Berlin', 'India']\n",
      "Background thread finished\n"
     ]
    }
   ],
   "source": [
    "if __name__ == '__main__':\n",
    "    nthreads = os.cpu_count()\n",
    "    print(f'Available number of cpu {nthreads}')\n",
    "    with concurrent.futures.ThreadPoolExecutor(max_workers = nthreads) as executor:\n",
    "        executor.submit(threading_test, ['Kapoorlabs', 'Paris', 'Berlin', 'India'])\n",
    "    "
   ]
  },
  {
   "cell_type": "code",
   "execution_count": 25,
   "metadata": {},
   "outputs": [],
   "source": [
    "import numpy as np\n",
    "from skimage.draw import ellipse\n",
    "from skimage.measure import label, regionprops\n",
    "from skimage.util import map_array\n",
    "import time\n",
    "from skimage import data, filters, measure, morphology\n",
    "import matplotlib.pyplot as plt\n",
    "def relabel_map(image,  current_label):\n",
    "\n",
    "    image[current_label] = 0\n",
    "    \n",
    "    return image\n",
    "\n",
    "def threshold_and_show(image):\n",
    "        \n",
    "        threshold = filters.threshold_otsu(image)\n",
    "        mask = image > threshold\n",
    "        mask = morphology.remove_small_objects(mask, 50)\n",
    "        mask = morphology.remove_small_holes(mask, 50)\n",
    "        label_img = measure.label(mask)\n",
    "        plt.imshow(label_img)\n",
    "        plt.show()\n",
    "        properties = regionprops(label_img)\n",
    "        current_labels = [prop.label for prop in properties ]\n",
    "        replace_labels = current_labels \n",
    "        return replace_labels,label_img\n"
   ]
  },
  {
   "cell_type": "code",
   "execution_count": 26,
   "metadata": {},
   "outputs": [
    {
     "data": {
      "image/png": "[encoded data removed]",
      "text/plain": [
       "<Figure size 432x288 with 1 Axes>"
      ]
     },
     "metadata": {
      "needs_background": "light"
     },
     "output_type": "display_data"
    },
    {
     "name": "stdout",
     "output_type": "stream",
     "text": [
      "Total execution time 0.09099245071411133\n"
     ]
    }
   ],
   "source": [
    "from queue import Queue\n",
    "import threading\n",
    "if __name__ == '__main__':\n",
    "        starttime = time.time()\n",
    "        \n",
    "        \n",
    "        image = data.coins()\n",
    "        return_labels, label_img = threshold_and_show(image)\n",
    "        for new_label in return_labels:\n",
    "              t = threading.Thread(target = relabel_map, args = [label_img, new_label])\n",
    "              t.start()\n",
    "              t.join()\n",
    "\n",
    "              \n",
    "              \n",
    "             \n",
    "              \n",
    "        endtime = time.time()\n",
    "\n",
    "        print(f'Total execution time {endtime - starttime}')\n",
    "\n",
    "        "
   ]
  },
  {
   "cell_type": "code",
   "execution_count": 27,
   "metadata": {},
   "outputs": [
    {
     "data": {
      "image/png": "[encoded data removed]",
      "text/plain": [
       "<Figure size 432x288 with 1 Axes>"
      ]
     },
     "metadata": {
      "needs_background": "light"
     },
     "output_type": "display_data"
    },
    {
     "name": "stdout",
     "output_type": "stream",
     "text": [
      "Available number of cpu 16\n",
      "Total execution time 0.0860135555267334\n",
      "Available number of cpu 1\n",
      "Total execution time 0.00099945068359375\n"
     ]
    }
   ],
   "source": [
    "#Now let us try multiprocessing for splitting the jobs that requires multiple cpus\n",
    "\n",
    "if __name__ == '__main__':\n",
    "        starttime = time.time()\n",
    "        image = data.coins()\n",
    "        return_labels, label_img = threshold_and_show(image) \n",
    "        nthreads = os.cpu_count()\n",
    "\n",
    "        print(f'Available number of cpu {nthreads}')\n",
    "        with concurrent.futures.ThreadPoolExecutor(max_workers = nthreads) as executor:\n",
    "            futures = []\n",
    "            for new_label in return_labels:\n",
    "              futures.append(executor.submit(relabel_map, image = label_img, current_label = new_label ))\n",
    "            for future in concurrent.futures.as_completed(futures):\n",
    "                   newimage = future.result()\n",
    "              \n",
    "        endtime = time.time()\n",
    "\n",
    "        print(f'Total execution time {endtime - starttime}')\n",
    "\n",
    "        starttime = time.time()\n",
    "        \n",
    "        nthreads = 1\n",
    "        print(f'Available number of cpu {nthreads}')\n",
    "        with concurrent.futures.ThreadPoolExecutor(max_workers = nthreads) as executor:\n",
    "            futures = []\n",
    "            for new_label in return_labels:\n",
    "              futures.append(executor.submit(relabel_map, image = label_img, current_label = new_label ))\n",
    "            for future in concurrent.futures.as_completed(futures):\n",
    "                   newimage = future.result()\n",
    "                  \n",
    "        endtime = time.time()\n",
    "\n",
    "        print(f'Total execution time {endtime - starttime}')"
   ]
  },
  {
   "cell_type": "code",
   "execution_count": null,
   "metadata": {},
   "outputs": [],
   "source": [
    "from pathlib import Path\n",
    "import concurrent\n",
    "from tifffile import imread, imwrite\n",
    "inputdir = Path('/path/to/dir/')\n",
    "outputdir = '/string/path/to/dir/'\n",
    "pattern = '*.tif'\n",
    "files = list(inputdir.glob(pattern))\n",
    "nthreads = os.cpu_count()\n",
    "def channelizer(file):\n",
    "    image = imread(file)\n",
    "    if(len(image.shape)==2):\n",
    "          newimage = np.zeros([image.shape[0], image.shape[1], 3])\n",
    "          for i in range(3):\n",
    "              newimage[:,:,i] = image\n",
    "    else:\n",
    "        newimage = image\n",
    "\n",
    "    return newimage, file.name   \n",
    "with concurrent.futures.ThreadPoolExecutor(max_workers = nthreads) as executor:\n",
    "     futures = []\n",
    "     for fname in files:\n",
    "         futures.append(executor.submit(channelizer, fname = fname))\n",
    "     for future in concurrent.futures.as_completed(futures):\n",
    "                   newimage, name = future.result()\n",
    "                   imwrite(outputdir + '/' + os.path.splitext(name)[0] + '.tiff', newimage)\n"
   ]
  }
 ],
 "metadata": {
  "kernelspec": {
   "display_name": "Python 3.9.0 ('naparienv')",
   "language": "python",
   "name": "python3"
  },
  "language_info": {
   "codemirror_mode": {
    "name": "ipython",
    "version": 3
   },
   "file_extension": ".py",
   "mimetype": "text/x-python",
   "name": "python",
   "nbconvert_exporter": "python",
   "pygments_lexer": "ipython3",
   "version": "3.9.0"
  },
  "orig_nbformat": 4,
  "vscode": {
   "interpreter": {
    "hash": "e140276ae15c1be7b597ddfede76c3757c35dc6a4240f18994000df39384733e"
   }
  }
 },
 "nbformat": 4,
 "nbformat_minor": 2
}
