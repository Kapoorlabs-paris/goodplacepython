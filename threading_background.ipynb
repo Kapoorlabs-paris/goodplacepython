{
 "cells": [
  {
   "cell_type": "markdown",
   "metadata": {},
   "source": []
  },
  {
   "cell_type": "code",
   "execution_count": 7,
   "metadata": {},
   "outputs": [],
   "source": [
    "import threading\n",
    "import time"
   ]
  },
  {
   "cell_type": "code",
   "execution_count": 8,
   "metadata": {},
   "outputs": [],
   "source": [
    "def threading_test(name):\n",
    "    print(f'Background process started with {name}')\n",
    "    time.sleep(3)\n",
    "    print(f'Background thread finished')\n",
    "\n"
   ]
  },
  {
   "cell_type": "markdown",
   "metadata": {},
   "source": [
    "Main thread finishes before the background thread is complete"
   ]
  },
  {
   "cell_type": "code",
   "execution_count": 9,
   "metadata": {},
   "outputs": [
    {
     "name": "stdout",
     "output_type": "stream",
     "text": [
      "Am the main thread\n",
      "Background process started with Kapoorlabs\n",
      "Main ended\n"
     ]
    }
   ],
   "source": [
    "if __name__ == '__main__':\n",
    "\n",
    "    print(f'Am the main thread')\n",
    "    t = threading.Thread(target = threading_test, args = [\"Kapoorlabs\"])\n",
    "    t.start()\n",
    "    # Main thread is not waiting for background thread to finish\n",
    "    \n",
    "    print(f'Main ended')"
   ]
  },
  {
   "cell_type": "markdown",
   "metadata": {},
   "source": [
    "Add daemon to kill the background thread"
   ]
  },
  {
   "cell_type": "code",
   "execution_count": 10,
   "metadata": {},
   "outputs": [
    {
     "name": "stdout",
     "output_type": "stream",
     "text": [
      "Am the main thread\n",
      "Background process started with Kapoorlabs\n",
      "Main ended\n"
     ]
    }
   ],
   "source": [
    "if __name__ == '__main__':\n",
    "\n",
    "    print(f'Am the main thread')\n",
    "    t = threading.Thread(target = threading_test, args = [\"Kapoorlabs\"], daemon = True)\n",
    "    t.start()\n",
    "    # Main thread is not waiting for background thread to finish\n",
    "    \n",
    "    print(f'Main ended')"
   ]
  },
  {
   "cell_type": "markdown",
   "metadata": {},
   "source": [
    "Use join() to wait for the background thread to finish execution"
   ]
  },
  {
   "cell_type": "code",
   "execution_count": 25,
   "metadata": {},
   "outputs": [
    {
     "name": "stdout",
     "output_type": "stream",
     "text": [
      "Am the main thread\n",
      "<locked _thread.lock object at 0x0000013EBB30D1B0>\n",
      "<unlocked _thread.lock object at 0x0000013EBB30D1B0>\n",
      "Background process started with Kapoorlabs\n",
      "Background thread finished\n",
      "Main ended\n"
     ]
    }
   ],
   "source": [
    "if __name__ == '__main__':\n",
    "\n",
    "    print(f'Am the main thread')\n",
    "    t = threading.Thread(target = threading_test, args = [\"Kapoorlabs\"])\n",
    "  \n",
    "    t.start()\n",
    "    #Wait for background thread to finish\n",
    "    t.join()\n",
    "    print(f'Main ended')\n"
   ]
  },
  {
   "cell_type": "code",
   "execution_count": 17,
   "metadata": {},
   "outputs": [],
   "source": [
    "import concurrent.futures\n",
    "import os"
   ]
  },
  {
   "cell_type": "code",
   "execution_count": 19,
   "metadata": {},
   "outputs": [
    {
     "name": "stdout",
     "output_type": "stream",
     "text": [
      "Available number of cpu 16\n",
      "Background process started with Kapoorlabs\n",
      "Background process started with Paris\n",
      "Background process started with Berlin\n",
      "Background process started with India\n",
      "Background thread finished\n",
      "Background thread finished\n",
      "Background thread finished\n",
      "Background thread finished\n"
     ]
    }
   ],
   "source": [
    "if __name__ == '__main__':\n",
    "    nthreads = os.cpu_count()\n",
    "    print(f'Available number of cpu {nthreads}')\n",
    "    with concurrent.futures.ThreadPoolExecutor(max_workers = nthreads) as executor:\n",
    "        executor.map(threading_test, ['Kapoorlabs', 'Paris', 'Berlin', 'India'])"
   ]
  },
  {
   "cell_type": "code",
   "execution_count": 26,
   "metadata": {},
   "outputs": [
    {
     "name": "stdout",
     "output_type": "stream",
     "text": [
      "Available number of cpu 16\n",
      "Background process started with ['Kapoorlabs', 'Paris', 'Berlin', 'India']\n",
      "Background thread finished\n"
     ]
    }
   ],
   "source": [
    "if __name__ == '__main__':\n",
    "    nthreads = os.cpu_count()\n",
    "    print(f'Available number of cpu {nthreads}')\n",
    "    with concurrent.futures.ThreadPoolExecutor(max_workers = nthreads) as executor:\n",
    "        executor.submit(threading_test, ['Kapoorlabs', 'Paris', 'Berlin', 'India'])\n",
    "    "
   ]
  },
  {
   "cell_type": "code",
   "execution_count": 39,
   "metadata": {},
   "outputs": [],
   "source": [
    "import numpy as np\n",
    "from skimage.draw import ellipse\n",
    "from skimage.measure import label, regionprops\n",
    "from skimage.util import map_array\n",
    "import time\n",
    "def relabel_map(image,  current_label):\n",
    "\n",
    "    image[current_label] = 0\n",
    "    \n",
    "    return image\n"
   ]
  },
  {
   "cell_type": "code",
   "execution_count": 42,
   "metadata": {},
   "outputs": [],
   "source": [
    "if __name__ == '__main__':\n",
    "        starttime = time.time()\n",
    "        image = np.zeros((100, 1600, 1600))\n",
    "        rr, cc = ellipse(30, 35, 10, 22)\n",
    "        image[rr, cc] = 1\n",
    "        label_img = label(image)\n",
    "        properties = regionprops(label_img)\n",
    "        current_labels = [prop.label for prop in properties ]\n",
    "        replace_labels = current_labels \n",
    "        nthreads = os.cpu_count()\n",
    "        print(f'Available number of cpu {nthreads}')\n",
    "        with concurrent.futures.ThreadPoolExecutor(max_workers = nthreads) as executor:\n",
    "            futures = []\n",
    "            for new_label in current_labels:\n",
    "              futures.append(executor.submit(relabel_map, image = label_img, current_label = new_label ))\n",
    "            for future in concurrent.futures.as_completed(futures):\n",
    "                   newimage = future.result()\n",
    "                   print(newimage.shape)\n",
    "        endtime = time.time()\n",
    "\n",
    "        print(f'Total execution time {endtime - starttime}')\n",
    "\n",
    "if __name__ == '__main__':\n",
    "        starttime = time.time()\n",
    "        \n",
    "        nthreads = 1\n",
    "        print(f'Available number of cpu {nthreads}')\n",
    "        with concurrent.futures.ThreadPoolExecutor(max_workers = nthreads) as executor:\n",
    "            futures = []\n",
    "            for new_label in current_labels:\n",
    "              futures.append(executor.submit(relabel_map, image = label_img, current_label = new_label ))\n",
    "            for future in concurrent.futures.as_completed(futures):\n",
    "                   newimage = future.result()\n",
    "                   print(newimage.shape)\n",
    "        endtime = time.time()\n",
    "\n",
    "        print(f'Total execution time {endtime - starttime}')\n"
   ]
  },
  {
   "cell_type": "code",
   "execution_count": null,
   "metadata": {},
   "outputs": [],
   "source": []
  }
 ],
 "metadata": {
  "kernelspec": {
   "display_name": "Python 3.9.0 ('naparienv')",
   "language": "python",
   "name": "python3"
  },
  "language_info": {
   "codemirror_mode": {
    "name": "ipython",
    "version": 3
   },
   "file_extension": ".py",
   "mimetype": "text/x-python",
   "name": "python",
   "nbconvert_exporter": "python",
   "pygments_lexer": "ipython3",
   "version": "3.9.0"
  },
  "orig_nbformat": 4,
  "vscode": {
   "interpreter": {
    "hash": "e140276ae15c1be7b597ddfede76c3757c35dc6a4240f18994000df39384733e"
   }
  }
 },
 "nbformat": 4,
 "nbformat_minor": 2
}
