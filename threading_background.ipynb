{
 "cells": [
  {
   "cell_type": "markdown",
   "metadata": {},
   "source": []
  },
  {
   "cell_type": "code",
   "execution_count": 7,
   "metadata": {},
   "outputs": [],
   "source": [
    "import threading\n",
    "import time"
   ]
  },
  {
   "cell_type": "code",
   "execution_count": 8,
   "metadata": {},
   "outputs": [],
   "source": [
    "def threading_test(name):\n",
    "    print(f'Background process started with {name}')\n",
    "    time.sleep(3)\n",
    "    print(f'Background thread finished')\n",
    "\n"
   ]
  },
  {
   "cell_type": "markdown",
   "metadata": {},
   "source": [
    "Main thread finishes before the background thread is complete"
   ]
  },
  {
   "cell_type": "code",
   "execution_count": 9,
   "metadata": {},
   "outputs": [
    {
     "name": "stdout",
     "output_type": "stream",
     "text": [
      "Am the main thread\n",
      "Background process started with Kapoorlabs\n",
      "Main ended\n"
     ]
    }
   ],
   "source": [
    "if __name__ == '__main__':\n",
    "\n",
    "    print(f'Am the main thread')\n",
    "    t = threading.Thread(target = threading_test, args = [\"Kapoorlabs\"])\n",
    "    t.start()\n",
    "    # Main thread is not waiting for background thread to finish\n",
    "    \n",
    "    print(f'Main ended')"
   ]
  },
  {
   "cell_type": "markdown",
   "metadata": {},
   "source": [
    "Add daemon to kill the background thread"
   ]
  },
  {
   "cell_type": "code",
   "execution_count": 10,
   "metadata": {},
   "outputs": [
    {
     "name": "stdout",
     "output_type": "stream",
     "text": [
      "Am the main thread\n",
      "Background process started with Kapoorlabs\n",
      "Main ended\n"
     ]
    }
   ],
   "source": [
    "if __name__ == '__main__':\n",
    "\n",
    "    print(f'Am the main thread')\n",
    "    t = threading.Thread(target = threading_test, args = [\"Kapoorlabs\"], daemon = True)\n",
    "    t.start()\n",
    "    # Main thread is not waiting for background thread to finish\n",
    "    \n",
    "    print(f'Main ended')"
   ]
  },
  {
   "cell_type": "markdown",
   "metadata": {},
   "source": [
    "Use join() to wait for the background thread to finish execution"
   ]
  },
  {
   "cell_type": "code",
   "execution_count": 12,
   "metadata": {},
   "outputs": [
    {
     "name": "stdout",
     "output_type": "stream",
     "text": [
      "Am the main thread\n",
      "Background process started with Kapoorlabs\n",
      "Background thread finished\n",
      "Main ended\n"
     ]
    }
   ],
   "source": [
    "if __name__ == '__main__':\n",
    "\n",
    "    print(f'Am the main thread')\n",
    "    t = threading.Thread(target = threading_test, args = [\"Kapoorlabs\"])\n",
    "    t.start()\n",
    "    #Wait for background thread to finish\n",
    "    t.join()\n",
    "    print(f'Main ended')\n"
   ]
  },
  {
   "cell_type": "code",
   "execution_count": 17,
   "metadata": {},
   "outputs": [],
   "source": [
    "import concurrent.futures\n",
    "import os"
   ]
  },
  {
   "cell_type": "code",
   "execution_count": 19,
   "metadata": {},
   "outputs": [
    {
     "name": "stdout",
     "output_type": "stream",
     "text": [
      "Available number of cpu 16\n",
      "Background process started with Kapoorlabs\n",
      "Background process started with Paris\n",
      "Background process started with Berlin\n",
      "Background process started with India\n",
      "Background thread finished\n",
      "Background thread finished\n",
      "Background thread finished\n",
      "Background thread finished\n"
     ]
    }
   ],
   "source": [
    "if __name__ == '__main__':\n",
    "    nthreads = os.cpu_count()\n",
    "    print(f'Available number of cpu {nthreads}')\n",
    "    with concurrent.futures.ThreadPoolExecutor(max_workers = nthreads) as executor:\n",
    "        executor.map(threading_test, ['Kapoorlabs', 'Paris', 'Berlin', 'India'])"
   ]
  },
  {
   "cell_type": "code",
   "execution_count": null,
   "metadata": {},
   "outputs": [],
   "source": []
  },
  {
   "cell_type": "code",
   "execution_count": null,
   "metadata": {},
   "outputs": [],
   "source": []
  }
 ],
 "metadata": {
  "kernelspec": {
   "display_name": "Python 3.9.0 ('naparienv')",
   "language": "python",
   "name": "python3"
  },
  "language_info": {
   "codemirror_mode": {
    "name": "ipython",
    "version": 3
   },
   "file_extension": ".py",
   "mimetype": "text/x-python",
   "name": "python",
   "nbconvert_exporter": "python",
   "pygments_lexer": "ipython3",
   "version": "3.9.0"
  },
  "orig_nbformat": 4,
  "vscode": {
   "interpreter": {
    "hash": "e140276ae15c1be7b597ddfede76c3757c35dc6a4240f18994000df39384733e"
   }
  }
 },
 "nbformat": 4,
 "nbformat_minor": 2
}
