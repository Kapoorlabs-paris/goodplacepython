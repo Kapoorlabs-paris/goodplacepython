{
 "cells": [
  {
   "cell_type": "code",
   "execution_count": 1,
   "metadata": {},
   "outputs": [],
   "source": [
    "# getting the datset\n",
    "from keras.datasets import cifar10"
   ]
  },
  {
   "cell_type": "code",
   "execution_count": 7,
   "metadata": {},
   "outputs": [],
   "source": [
    "(x_train, y_train), (x_test, y_test) = cifar10.load_data()\n"
   ]
  },
  {
   "cell_type": "code",
   "execution_count": 8,
   "metadata": {},
   "outputs": [
    {
     "name": "stdout",
     "output_type": "stream",
     "text": [
      "Training data (50000, 32, 32, 3) (50000, 1)\n",
      "Test data (10000, 32, 32, 3) (10000, 1)\n"
     ]
    }
   ],
   "source": [
    "print('Training data', x_train.shape, y_train.shape)\n",
    "print('Test data', x_test.shape, y_test.shape)"
   ]
  },
  {
   "cell_type": "markdown",
   "metadata": {},
   "source": [
    "The Cifar10 dataset consists of 10 classes\n",
    "\n",
    "\n",
    "|Label|Description|\n",
    "| --- | --- |\n",
    "| 0 | airplane  |\n",
    "| 1 | automobile  |\n",
    "| 2 | bird  |\n",
    "| 3 | cat  |\n",
    "| 4 | deer  |\n",
    "| 5 | dog  |\n",
    "| 6 | frog  |\n",
    "| 7 | horse  |\n",
    "| 8 | ship  |\n",
    "| 9 | truck  |\n",
    "\n",
    "Let's say we are only interested in cats and dogs, so we only want to load the class = 3 and 5, we write a function to only extract the label of interest out of all the dataset"
   ]
  },
  {
   "cell_type": "markdown",
   "metadata": {},
   "source": []
  },
  {
   "cell_type": "code",
   "execution_count": 19,
   "metadata": {},
   "outputs": [
    {
     "name": "stdout",
     "output_type": "stream",
     "text": [
      "x_train shape: (10000, 32, 32, 3) (10000, 1)\n",
      "10000 train samples\n",
      "2000 test samples\n"
     ]
    }
   ],
   "source": [
    "import numpy as np\n",
    "# Reduce to cats and dogs\n",
    "def extract(x,y,labels):\n",
    "    arg_train = []\n",
    " \n",
    "    new_y = np.zeros(np.max(labels)+1)\n",
    "    \n",
    "    for i,l in enumerate(labels):\n",
    "        arg_train.append(np.argwhere(y == l)[:,0])\n",
    "        new_y[l] = i\n",
    "        \n",
    "    arg_train = np.concatenate(arg_train)\n",
    "  \n",
    "    return x[arg_train], new_y[y[arg_train]]\n",
    "    \n",
    "x_train_red, y_train_red = extract(x_train, y_train, [3,5])\n",
    "x_test_red, y_test_red = extract(x_test, y_test, [3,5])\n",
    "x_train_red = x_train_red.astype('float32')\n",
    "x_test_red = x_tx_test_redest.astype('float32')\n",
    "# maximum value normalization\n",
    "x_train_red /= 255\n",
    "x_test_red /= 255\n",
    "print('x_train shape:', x_train_red.shape, y_train_red.shape)\n",
    "print(x_train_red.shape[0], 'train samples')\n",
    "print(x_test_red.shape[0], 'test samples')"
   ]
  },
  {
   "cell_type": "code",
   "execution_count": 41,
   "metadata": {},
   "outputs": [
    {
     "data": {
      "image/png": "[encoded data removed]",
      "text/plain": [
       "<Figure size 432x288 with 1 Axes>"
      ]
     },
     "metadata": {
      "needs_background": "light"
     },
     "output_type": "display_data"
    },
    {
     "data": {
      "image/png": "[encoded data removed]",
      "text/plain": [
       "<Figure size 432x288 with 1 Axes>"
      ]
     },
     "metadata": {
      "needs_background": "light"
     },
     "output_type": "display_data"
    }
   ],
   "source": [
    "import matplotlib.pyplot as plt\n",
    "\n",
    "\n",
    "plt.imshow(x_train_red[0])\n",
    "plt.title(\"a cat\")\n",
    "plt.show()\n",
    "plt.imshow(x_train_red[-1])\n",
    "plt.title(\"a dog\")\n",
    "plt.show()"
   ]
  },
  {
   "cell_type": "code",
   "execution_count": null,
   "metadata": {},
   "outputs": [],
   "source": []
  }
 ],
 "metadata": {
  "kernelspec": {
   "display_name": "Python 3.9.0 ('naparienv')",
   "language": "python",
   "name": "python3"
  },
  "language_info": {
   "codemirror_mode": {
    "name": "ipython",
    "version": 3
   },
   "file_extension": ".py",
   "mimetype": "text/x-python",
   "name": "python",
   "nbconvert_exporter": "python",
   "pygments_lexer": "ipython3",
   "version": "3.9.0"
  },
  "orig_nbformat": 4,
  "vscode": {
   "interpreter": {
    "hash": "e140276ae15c1be7b597ddfede76c3757c35dc6a4240f18994000df39384733e"
   }
  }
 },
 "nbformat": 4,
 "nbformat_minor": 2
}
