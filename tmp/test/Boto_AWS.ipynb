{
 "cells": [
  {
   "cell_type": "code",
   "execution_count": 1,
   "metadata": {},
   "outputs": [],
   "source": [
    "\n",
    "import boto3\n",
    "import uuid"
   ]
  },
  {
   "cell_type": "code",
   "execution_count": 5,
   "metadata": {},
   "outputs": [
    {
     "name": "stdout",
     "output_type": "stream",
     "text": [
      "mariprojectc1634c3b-cfba-4144-a1f5-5960413fe310\n",
      "mariprojectc1634c3b-cfba-4144-a1f5-5960413fe310 s3.Bucket(name='mariprojectc1634c3b-cfba-4144-a1f5-5960413fe310')\n"
     ]
    }
   ],
   "source": [
    "s3_client = boto3.client('s3')\n",
    "s3_resource = boto3.resource('s3')\n",
    "\n",
    "def create_bucket_name(bucket_prefix):\n",
    "    \n",
    "    return ''.join([bucket_prefix,str(uuid.uuid4())])\n",
    "\n",
    "def create_bucket(bucket_prefix, s3_connection):\n",
    "    session = boto3.session.Session()\n",
    "    current_region = session.region_name\n",
    "    bucket_name = create_bucket_name(bucket_prefix)\n",
    "    print(bucket_name)\n",
    "    bucket_response = s3_connection.create_bucket( Bucket = bucket_name, CreateBucketConfiguration = {\n",
    "                 'LocationConstraint': current_region\n",
    "    })\n",
    "    return bucket_name, bucket_response    \n",
    "name, response = create_bucket('mariproject', s3_resource)\n",
    "print(name, response)    "
   ]
  },
  {
   "cell_type": "code",
   "execution_count": null,
   "metadata": {},
   "outputs": [],
   "source": [
    "def create_temp_file(size, file_name, file_content):\n",
    "    random_file_name = ''.join([str(uuid.uuid4()).hex[:6]]), file_name\n",
    "    with open(random_file_name, 'w') as f:\n",
    "        f.write(str(file_content) * size)"
   ]
  }
 ],
 "metadata": {
  "kernelspec": {
   "display_name": "Python 3.9.0 ('naparienv')",
   "language": "python",
   "name": "python3"
  },
  "language_info": {
   "codemirror_mode": {
    "name": "ipython",
    "version": 3
   },
   "file_extension": ".py",
   "mimetype": "text/x-python",
   "name": "python",
   "nbconvert_exporter": "python",
   "pygments_lexer": "ipython3",
   "version": "3.9.0"
  },
  "orig_nbformat": 4,
  "vscode": {
   "interpreter": {
    "hash": "e140276ae15c1be7b597ddfede76c3757c35dc6a4240f18994000df39384733e"
   }
  }
 },
 "nbformat": 4,
 "nbformat_minor": 2
}
