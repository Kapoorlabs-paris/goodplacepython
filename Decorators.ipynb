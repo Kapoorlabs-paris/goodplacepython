{
 "cells": [
  {
   "cell_type": "code",
   "execution_count": 1,
   "metadata": {},
   "outputs": [],
   "source": [
    "import functools"
   ]
  },
  {
   "cell_type": "markdown",
   "metadata": {},
   "source": [
    "In this tutorial we will learn how to write decorators to increase the functionality of a given function. Then we will provide some real world examples on how they can be useful to speed up computations and are super powerful by helping the develoeprs in avoiding a lot of overhead by this added functionality. In a way it is like inception as we are defining a function inside a function."
   ]
  },
  {
   "cell_type": "code",
   "execution_count": 49,
   "metadata": {},
   "outputs": [
    {
     "name": "stdout",
     "output_type": "stream",
     "text": [
      "We are at Kapoorlabs. We are at Kapoorlabs.\n"
     ]
    }
   ],
   "source": [
    "#Let us start with a simple decorator\n",
    "from datetime import datetime\n",
    "\n",
    "\n",
    "def my_decorator(function_as_argument):\n",
    "    def wrapper():\n",
    "        if 7 <= datetime.now().hour < 22:\n",
    "           value = function_as_argument()\n",
    "        else:   \n",
    "           value = f'Sleep time ' + function_as_argument()\n",
    "        return value   \n",
    "    return wrapper \n",
    "\n",
    "def say_kapoorlabs():\n",
    "    return f'We are at Kapoorlabs.'\n",
    "\n",
    "#decorated call only returns the print statement when the if condition is satisfied, a direct call to the function will not \n",
    "#obey such a condition\n",
    "say_kapoorlabs_decorator = my_decorator(say_kapoorlabs)\n",
    "\n",
    "print(say_kapoorlabs_decorator(),say_kapoorlabs())\n",
    "\n"
   ]
  },
  {
   "cell_type": "code",
   "execution_count": 9,
   "metadata": {},
   "outputs": [
    {
     "name": "stdout",
     "output_type": "stream",
     "text": [
      "We are at Kapoorlabs\n"
     ]
    }
   ],
   "source": [
    "#Syntactic Sugar\n",
    "\n",
    "# By using this syntax of a decorator the function can be directly called and will get the deocrate functionality\n",
    "@my_decorator\n",
    "def say_kapoorlabs():\n",
    "      print('We are at Kapoorlabs')\n",
    "\n",
    "say_kapoorlabs()     \n"
   ]
  },
  {
   "cell_type": "code",
   "execution_count": 43,
   "metadata": {},
   "outputs": [
    {
     "name": "stdout",
     "output_type": "stream",
     "text": [
      "Help on function wrapper in module __main__:\n",
      "\n",
      "wrapper(*args, **kwargs)\n",
      "\n",
      "We are at Kapoorlabs from 2 till 22 hours <function my_decorator_argument.<locals>.wrapper at 0x000002994E425D30> None\n"
     ]
    }
   ],
   "source": [
    "#Passing arguments into the decorator\n",
    "\n",
    "def my_decorator_argument(function_as_argument):\n",
    "    def wrapper(*args, **kwargs):\n",
    "        if 2 <= datetime.now().hour < 22:\n",
    "           value = function_as_argument(*args, **kwargs)\n",
    "        else:   \n",
    "           value = f'Sleep time now, ' + function_as_argument(*args, **kwargs)\n",
    "        return value   \n",
    "    return wrapper \n",
    "\n",
    "@my_decorator_argument\n",
    "def say_kapoorlabs_argument(start, end):\n",
    "      return f'We are at Kapoorlabs from {start} till {end} hours'\n",
    "\n",
    "\n",
    "assign_value = say_kapoorlabs_argument(2,22)\n",
    "print(assign_value, say_kapoorlabs_argument, help(say_kapoorlabs_argument))"
   ]
  },
  {
   "cell_type": "code",
   "execution_count": 44,
   "metadata": {},
   "outputs": [
    {
     "name": "stdout",
     "output_type": "stream",
     "text": [
      "Help on function say_kapoorlabs_argument in module __main__:\n",
      "\n",
      "say_kapoorlabs_argument(start, end)\n",
      "\n",
      "We are at Kapoorlabs from 2 till 22 hours <function say_kapoorlabs_argument at 0x000002994E3F2EE0> None\n"
     ]
    }
   ],
   "source": [
    "#What about functools? (gets the true location of the function and not locates it as wrapped inside a decorator)\n",
    "def my_decorator_argument(function_as_argument):\n",
    "    @functools.wraps(function_as_argument)\n",
    "    def wrapper(*args, **kwargs):\n",
    "        if 2 <= datetime.now().hour < 22:\n",
    "           value = function_as_argument(*args, **kwargs)\n",
    "        else:   \n",
    "           value = f'Sleep time now, ' + function_as_argument(*args, **kwargs)\n",
    "        return value   \n",
    "    return wrapper \n",
    "@my_decorator_argument\n",
    "def say_kapoorlabs_argument(start, end):\n",
    "      return f'We are at Kapoorlabs from {start} till {end} hours'\n",
    "\n",
    "\n",
    "assign_value = say_kapoorlabs_argument(2,22)\n",
    "print(assign_value, say_kapoorlabs_argument, help(say_kapoorlabs_argument))"
   ]
  },
  {
   "cell_type": "code",
   "execution_count": 50,
   "metadata": {},
   "outputs": [],
   "source": [
    "#Real world examples\n",
    "#Our broiler plate\n",
    "\n",
    "def decorator(func):\n",
    "    @functools.wraps(func)\n",
    "    def wrapper(*args, **kwargs):\n",
    "        value = func(*args, **kwargs)\n",
    "        return value\n",
    "    return wrapper    \n",
    "\n",
    "\n"
   ]
  },
  {
   "cell_type": "code",
   "execution_count": 51,
   "metadata": {},
   "outputs": [],
   "source": [
    "import time\n",
    "\n",
    "def timer(func):\n",
    "    \"\"\" Print the runtime of the decorated function \"\"\"\n",
    "    @functools.wraps(func)\n",
    "    def wrapper_timer(*args, **kwargs):\n",
    "        start_time = time.perf_counter()\n",
    "        value = func(*args, **kwargs)\n",
    "        end_time = time.perf_counter()\n",
    "        run_time = end_time - start_time \n",
    "        print(f'Finished  {func.__name__!r} in {run_time:.4f} secs')\n",
    "        return value\n",
    "    return wrapper_timer  "
   ]
  },
  {
   "cell_type": "code",
   "execution_count": null,
   "metadata": {},
   "outputs": [],
   "source": [
    "@timer\n",
    "def waste_some_time(num_times):\n",
    "\n",
    "    for _ in range(num_times):\n",
    "        sum([i**2 for i in range(num_times)])"
   ]
  }
 ],
 "metadata": {
  "kernelspec": {
   "display_name": "Python 3.9.0 ('naparienv')",
   "language": "python",
   "name": "python3"
  },
  "language_info": {
   "codemirror_mode": {
    "name": "ipython",
    "version": 3
   },
   "file_extension": ".py",
   "mimetype": "text/x-python",
   "name": "python",
   "nbconvert_exporter": "python",
   "pygments_lexer": "ipython3",
   "version": "3.9.0"
  },
  "orig_nbformat": 4,
  "vscode": {
   "interpreter": {
    "hash": "e140276ae15c1be7b597ddfede76c3757c35dc6a4240f18994000df39384733e"
   }
  }
 },
 "nbformat": 4,
 "nbformat_minor": 2
}
