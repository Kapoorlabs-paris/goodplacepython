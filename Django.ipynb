{
 "cells": [
  {
   "cell_type": "code",
   "execution_count": null,
   "metadata": {},
   "outputs": [],
   "source": [
    "#Lets make a Django project and start a django app, first install Django with pip install django\n"
   ]
  },
  {
   "cell_type": "markdown",
   "metadata": {},
   "source": [
    "Start a django project by typing 'django-admin startproject setup .' This will create the project folder and a manage.py file. This command creates the structure for the django project. Start a django app with: python manage.py startapp appname. More than one apps can live inside a django project. Let us call the appname = projects. After that you can start the local server by running python manage.py runserver"
   ]
  },
  {
   "cell_type": "markdown",
   "metadata": {},
   "source": [
    "Now you can start the development server and go to the local host address in your browser. Now go to the settings.py file and register your app that we named 'django_app' in the INSTALLED_APPS field. Next create a urls.py file inside the django_app folder and add the following code."
   ]
  },
  {
   "cell_type": "code",
   "execution_count": 1,
   "metadata": {},
   "outputs": [],
   "source": [
    "from django.urls import path\n",
    "from projects import views\n",
    "urlpatterns = [\n",
    "    path('', views.project_list),\n",
    "]"
   ]
  },
  {
   "cell_type": "markdown",
   "metadata": {},
   "source": []
  },
  {
   "cell_type": "markdown",
   "metadata": {},
   "source": [
    "Now go to the views.py file in the projects folder and insert this code below"
   ]
  },
  {
   "cell_type": "code",
   "execution_count": null,
   "metadata": {},
   "outputs": [],
   "source": [
    "from django.http import HttpResponse\n",
    "# Create your views here.\n",
    "\n",
    "def project_list(request):\n",
    "    \n",
    "\n",
    "    return HttpResponse(\"<h1>Response object renders our HTML</h1>\")"
   ]
  },
  {
   "cell_type": "markdown",
   "metadata": {},
   "source": [
    "Next go to the urls.py file but this time in the setup folder and inform that file about the other urls.py file that we created so that we can start our server that passes our url request for the HttpResponse, add the following code in the urls.py file in the setup folder"
   ]
  },
  {
   "cell_type": "code",
   "execution_count": 3,
   "metadata": {},
   "outputs": [],
   "source": [
    "\n",
    "\n",
    "from django.urls import path, include\n",
    "\n",
    "urlpatterns = [\n",
    "   \n",
    "    path('projects', include('projects.urls'))\n",
    "]"
   ]
  },
  {
   "cell_type": "markdown",
   "metadata": {},
   "source": [
    "Now we are ready to start the server by python manage.py runserver and then open the local host address and append/django_app to see our app."
   ]
  },
  {
   "cell_type": "markdown",
   "metadata": {},
   "source": [
    "Next we create templates folder inside the projects folder and create another projects folder inside the templates folder and create an index.html file and change the views file to point to the index file instead of writting the html code directly in there"
   ]
  },
  {
   "cell_type": "code",
   "execution_count": null,
   "metadata": {},
   "outputs": [],
   "source": [
    "from django.shortcuts import render\n",
    "def project_list(request):\n",
    "\n",
    "     return render(request, 'projects/index.html')"
   ]
  },
  {
   "cell_type": "markdown",
   "metadata": {},
   "source": [
    "A better way to create such html files is to create a base html file which contains the basic html code structure and styling information and the other html files can port this code via simple command structure and avoid repititive code. The basic structure of such an html file is\n",
    "<!DOCTYPE html>\n",
    "<html lang=\"en\">\n",
    "    <head>\n",
    "        <meta charset=\"utf-8\">\n",
    "        <title>Our Portfolio</title>\n",
    "        <link rel=\"stylesheet\" href=\"https://stackpath.bootstrapcdn.com/bootstrap/4.3.1/css/bootstrap.min.css\" integrity=\"sha384-ggOyR0iXCbMQv3Xipma34MD+dH/1fQ784/j6cY/iJTQUOhcWr7x9JvoRxT2MZw1T\" crossorigin=\"anonymous\">\n",
    "        <meta name=\"'viewport' content='width=device-width', initial-scale=1.0\">\n",
    "    </head>\n",
    "   \n",
    "<body>\n",
    "\n",
    "The meta command is there so that your project looks good on desktop and also mobile Next we need to add two lines to this which other html files will add content to\n",
    "\n",
    "%\n",
    "  {% block content %}\n",
    "\n",
    "\n",
    "  {% endblock %}\n",
    "\n",
    "  We can create an all_projects html file that contains a for loop over all the projects and nice styled buttons to show details of just one project.\n",
    "\n",
    "  {% extends 'projects/base.html' %}\n",
    "\n",
    "{% load static %}\n",
    "\n",
    "{% block content %}\n",
    "\n",
    "<div class=\"container\">  \n",
    "<h2>  Kapoorlabs projects </h2>\n",
    "\n",
    "<div class=\"row\">\n",
    "{% for project in projects %}\n",
    "<div class=\"col-md-4\">\n",
    "    <div class=\"card mb-2\">\n",
    "    <img class=\"card-img-top\"  src=\"{% static project.image %}\" alt = \"{{ project.description }}\">\n",
    "    <div class=\"card-body\">\n",
    "        <h5 class=\"card-title\">{{ project.title }}</h5>\n",
    "        <p class=\"card-text\">{{ project.technology }}</p>\n",
    "        <a href=\"{% url 'projects:project_detail' project.pk %}\"\n",
    "        class=\"btn btn-primary\">\n",
    "        Read More\n",
    "        </a>\n",
    "</div>    \n",
    "</div>\n",
    "</div>\n",
    "% \n",
    "\n",
    "The extends command includes the base html file and the for loop inside the curly brackets with the percentage sign is how we create a portfolio showing all the projects"
   ]
  },
  {
   "cell_type": "markdown",
   "metadata": {},
   "source": [
    "Next we create a django model to interact with the sql database, for this we put the following code lines in the models.py file"
   ]
  },
  {
   "cell_type": "markdown",
   "metadata": {},
   "source": [
    "Another important point to mention is creating a detail html file which is invoked when the user clicks on Read More button, it uses an integer field of theproject called pk and this has to be added in the urls.py file as \n",
    "%\n",
    "path('<int:pk>', views.project_detail, name = 'project_detail'),\n",
    "% \n",
    "then we need to create an entry in views.py file def project_detail(request, pk):\n",
    "%\n",
    "     project = Project.objects.get(pk=pk)\n",
    "     return render(request,'projects/detail.html', {'project' : project} )\n",
    "\n",
    "     and a detail html file that looks like this: \n",
    "\n",
    "     {% extends 'projects/base.html' %}\n",
    "\n",
    "\n",
    "{% load static %}\n",
    " \n",
    "{% block content %}\n",
    "<link rel=\"stylesheet\" href=\"blog-layout.css\" />\n",
    "        <div class=\"col-md-4\">\n",
    "        \n",
    "        <img class=\"card-img-top\"  src=\"{% static project.image %}\" alt = \"{{ project.description }}\" >\n",
    "   </div>\n",
    "        <div class=\"card-body\">\n",
    "            <h5 >{{ project.title }}</h5>\n",
    "            <p >{{ project.description }}</p>\n",
    "            <p >{{ project.technology }}</p>\n",
    "           \n",
    "    \n",
    "    </div>\n",
    "    {% endblock %}\n",
    "\n",
    "    Then we modify the url link in the all_projects html file and the Read More button looks like \n",
    "\n",
    "    <a href=\"{% url 'projects:project_detail' project.pk %}\"\n",
    "        class=\"btn btn-primary\">\n",
    "        Read More\n",
    "        </a>\n",
    "%"
   ]
  },
  {
   "cell_type": "code",
   "execution_count": null,
   "metadata": {},
   "outputs": [],
   "source": [
    "from django.db import models\n",
    "class Project(models.Model):\n",
    "    title = models.CharField(max_length = 100)\n",
    "    description = models.TextField()\n",
    "    technology = models.CharField(max_length = 20)\n",
    "    image = models.FilePathField(path = '/projects/img')"
   ]
  },
  {
   "cell_type": "markdown",
   "metadata": {},
   "source": [
    "Next we run python manage.py makemigrations followed by python manage.py migrate to add this information in the static migrations folder, any change in the database like a new path etc needs these two commands to be run again to keep the project updated. Now let us go in a django shell by running python manage.py shell, now we run these commands in the shell to add our project into the database\n",
    "In [1]: from projects.models import Project\n",
    "\n",
    "In [2]: p1 = Project(title=\"manage students\", description=\"This is a project to manage classrooms\", technology=\"Django\", image=\"business_model.png\") \n",
    "\n",
    "In [3]: p1.save()\n",
    "\n",
    "In [4]: results = Project.objects.all()\n",
    "p = results[0]\n",
    "p.title()"
   ]
  },
  {
   "cell_type": "markdown",
   "metadata": {},
   "source": [
    "There is a better way to cerate such database entries than invoking the django terminal and that is to use admin functionality, for this run python manage.py createsuperuser and then enter the user name, email and password. Adter that you can go to the local host and type admin instead of projects to open the admin console from where you can create users and groups. We need to modify the admin.py file and as django suggests we have to add models there, for this we have to enter one line admin.site.register(Project) so that our Project also shows up in the django admin space and this makes it easy to add the database entries for different projects."
   ]
  },
  {
   "cell_type": "markdown",
   "metadata": {},
   "source": []
  }
 ],
 "metadata": {
  "kernelspec": {
   "display_name": "Python 3.9.0 ('naparienv')",
   "language": "python",
   "name": "python3"
  },
  "language_info": {
   "codemirror_mode": {
    "name": "ipython",
    "version": 3
   },
   "file_extension": ".py",
   "mimetype": "text/x-python",
   "name": "python",
   "nbconvert_exporter": "python",
   "pygments_lexer": "ipython3",
   "version": "3.9.0"
  },
  "orig_nbformat": 4,
  "vscode": {
   "interpreter": {
    "hash": "e140276ae15c1be7b597ddfede76c3757c35dc6a4240f18994000df39384733e"
   }
  }
 },
 "nbformat": 4,
 "nbformat_minor": 2
}
