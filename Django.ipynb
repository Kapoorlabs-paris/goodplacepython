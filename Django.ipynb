{
 "cells": [
  {
   "cell_type": "code",
   "execution_count": null,
   "metadata": {},
   "outputs": [],
   "source": [
    "#Lets make a Django project and start a django app, first install Django with pip install django\n"
   ]
  },
  {
   "cell_type": "markdown",
   "metadata": {},
   "source": [
    "Start a django project by typing 'django-admin startproject setup .' This will create the project folder and a manage.py file. This command creates the structure for the django project. Start a django app with: python manage.py startapp appname. More than one apps can live inside a django project. Let us call the appname = django_app. After that you can start the local server by running python manage.py runserver"
   ]
  },
  {
   "cell_type": "markdown",
   "metadata": {},
   "source": [
    "Now you can start the development server and go to the local host address in your browser. Now go to the settings.py file and register your app that we named 'django_app' in the INSTALLED_APPS field. Next create a urls.py file inside the django_app folder and add the following code."
   ]
  },
  {
   "cell_type": "code",
   "execution_count": 1,
   "metadata": {},
   "outputs": [],
   "source": [
    "from django.urls import path\n",
    "from django_app import views\n",
    "urlpatterns = [\n",
    "    path('', views.project_list),\n",
    "]"
   ]
  },
  {
   "cell_type": "markdown",
   "metadata": {},
   "source": []
  },
  {
   "cell_type": "markdown",
   "metadata": {},
   "source": [
    "Now go to the views.py file in the django_app folder and insert this code below"
   ]
  },
  {
   "cell_type": "code",
   "execution_count": null,
   "metadata": {},
   "outputs": [],
   "source": [
    "from django.http import HttpResponse\n",
    "# Create your views here.\n",
    "\n",
    "def project_list(request):\n",
    "    \n",
    "\n",
    "    return HttpResponse(\"<h1>Response object renders our HTML</h1>\")"
   ]
  },
  {
   "cell_type": "markdown",
   "metadata": {},
   "source": [
    "Next go to the urls.py file but this time in the setup folder and inform that file about the other urls.py file that we created so that we can start our server that passes our url request for the HttpResponse, add the following code in the urls.py file in the setup folder"
   ]
  },
  {
   "cell_type": "code",
   "execution_count": 3,
   "metadata": {},
   "outputs": [],
   "source": [
    "\n",
    "\n",
    "from django.urls import path, include\n",
    "\n",
    "urlpatterns = [\n",
    "   \n",
    "    path('django_app', include('django_app.urls'))\n",
    "]"
   ]
  },
  {
   "cell_type": "markdown",
   "metadata": {},
   "source": [
    "Now we are ready to start the server by python manage.py runserver and then open the local host address and append/django_app to see our app."
   ]
  },
  {
   "cell_type": "code",
   "execution_count": null,
   "metadata": {},
   "outputs": [],
   "source": []
  }
 ],
 "metadata": {
  "kernelspec": {
   "display_name": "Python 3.9.0 ('naparienv')",
   "language": "python",
   "name": "python3"
  },
  "language_info": {
   "codemirror_mode": {
    "name": "ipython",
    "version": 3
   },
   "file_extension": ".py",
   "mimetype": "text/x-python",
   "name": "python",
   "nbconvert_exporter": "python",
   "pygments_lexer": "ipython3",
   "version": "3.9.0"
  },
  "orig_nbformat": 4,
  "vscode": {
   "interpreter": {
    "hash": "e140276ae15c1be7b597ddfede76c3757c35dc6a4240f18994000df39384733e"
   }
  }
 },
 "nbformat": 4,
 "nbformat_minor": 2
}
